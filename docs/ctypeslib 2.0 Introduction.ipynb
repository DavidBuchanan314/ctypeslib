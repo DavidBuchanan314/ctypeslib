{
 "metadata": {
  "name": "ctypeslib 2.0 Introduction"
 },
 "nbformat": 3,
 "nbformat_minor": 0,
 "worksheets": [
  {
   "cells": [
    {
     "cell_type": "heading",
     "level": 1,
     "metadata": {},
     "source": "ctypeslib 2.0 Introduction"
    },
    {
     "cell_type": "markdown",
     "metadata": {},
     "source": "Hi you, \n\nSo here we are going to show a small demo of ctypeslib 2.0.\n\nThe purpose of ctypeslib is to transform C headers into ABI-compatible python code using ctypes.\n\nFirst, lets start with a few easy C headers that we want to \"convert\" to python ctypes code."
    },
    {
     "cell_type": "code",
     "collapsed": false,
     "input": "c_headers = '''\n/** very simple tests */\nint version = 2;\nchar text[] = \"Hello World!\";\nint minors[] = {2,0,0};\n'''",
     "language": "python",
     "metadata": {},
     "outputs": [],
     "prompt_number": 1
    },
    {
     "cell_type": "markdown",
     "metadata": {},
     "source": "we now can use the ctypeslib parser.\n\nNote: the ctypeslib python library require the LLVM Clang library and its python bindings."
    },
    {
     "cell_type": "code",
     "collapsed": false,
     "input": "import ctypeslib\nfrom ctypeslib.codegen import clangparser\n# let's create a parser\nparser = clangparser.Clang_Parser(flags=[])\n# parse the c headers\nparser.parse_string(c_headers)\n# get the result\nitems = parser.get_result()\nprint items",
     "language": "python",
     "metadata": {},
     "outputs": [
      {
       "output_type": "stream",
       "stream": "stdout",
       "text": "[Variable(comment=None,init=Hello World!,typ=ArrayType(...),name=text,location=('/tmp/tmpZrixvs.h', 4)), Variable(comment=very simple tests,init=2,typ=FundamentalType(...),name=version,location=('/tmp/tmpZrixvs.h', 3)), Variable(comment=None,init=[2, 0, 0],typ=ArrayType(...),name=minors,location=('/tmp/tmpZrixvs.h', 5))]\n"
      }
     ],
     "prompt_number": 2
    },
    {
     "cell_type": "markdown",
     "metadata": {},
     "source": "Now, we have parsed the C headers.\n\nThe parser returns an collection of intermediate python objects.\n\nWe want to produce a python source code out of it. Let's use the codegenerator."
    },
    {
     "cell_type": "code",
     "collapsed": false,
     "input": "# we need a output stream to store the generated code \nfrom StringIO import StringIO\noutput = StringIO()\n\nfrom ctypeslib.codegen import codegenerator\n# get the generator \ngen = codegenerator.Generator(output)\n# and produce the code\ngen.generate(parser, items)\n",
     "language": "python",
     "metadata": {},
     "outputs": [],
     "prompt_number": 3
    },
    {
     "cell_type": "markdown",
     "metadata": {},
     "source": "The code is generated in the output stream (which could be a file)"
    },
    {
     "cell_type": "code",
     "collapsed": false,
     "input": "print output.getvalue()",
     "language": "python",
     "metadata": {},
     "outputs": [
      {
       "output_type": "stream",
       "stream": "stdout",
       "text": "# -*- coding: utf-8 -*-\n#\n# TARGET arch is: []\n# WORD_SIZE is: 8\n# POINTER_SIZE is: 8\n# LONGDOUBLE_SIZE is: 16\n#\nimport ctypes\n\n\n\n\nversion = 2 # Variable ctypes.c_int32\ntext = 'Hello World!' # Variable ctypes.c_char * 12\nminors = [2, 0, 0] # Variable ctypes.c_int32 * 3\n__all__ = ['text', 'version', 'minors']\n\n"
      }
     ],
     "prompt_number": 4
    },
    {
     "cell_type": "markdown",
     "metadata": {},
     "source": "Let's try to load that code in the python console"
    },
    {
     "cell_type": "code",
     "collapsed": false,
     "input": "# -*- coding: utf-8 -*-\n#\n# TARGET arch is: []\n# WORD_SIZE is: 8\n# POINTER_SIZE is: 8\n# LONGDOUBLE_SIZE is: 16\n#\nimport ctypes\n\n\n\n\nversion = 2 # Variable ctypes.c_int32\ntext = 'Hello World!' # Variable ctypes.c_char * 12\nminors = [2, 0, 0] # Variable ctypes.c_int32 * 3\n__all__ = ['text', 'version', 'minors']",
     "language": "python",
     "metadata": {},
     "outputs": [],
     "prompt_number": 5
    },
    {
     "cell_type": "markdown",
     "metadata": {},
     "source": "Are the C variables now accessible in Python ?"
    },
    {
     "cell_type": "code",
     "collapsed": false,
     "input": "print text\nprint 'Brought to you by ctypeslib version', version\nprint minors",
     "language": "python",
     "metadata": {},
     "outputs": [
      {
       "output_type": "stream",
       "stream": "stdout",
       "text": "Hello World!\nBrought to you by ctypeslib version 2\n[2, 0, 0]\n"
      }
     ],
     "prompt_number": 6
    },
    {
     "cell_type": "markdown",
     "metadata": {},
     "source": "Success !!"
    }
   ],
   "metadata": {}
  }
 ]
}